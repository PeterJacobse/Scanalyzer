{
 "cells": [
  {
   "cell_type": "code",
   "execution_count": 75,
   "id": "2d30ab13",
   "metadata": {},
   "outputs": [],
   "source": [
    "import os\n",
    "import numpy as np\n",
    "import nanonispy2 as nap\n",
    "import re\n",
    "\n",
    "def get_scan(file_name, crop_unfinished: bool = True):\n",
    "    if not os.path.exists(file_name):\n",
    "        print(f\"Error: File \\\"{file_name}\\\" does not exist.\")\n",
    "        return\n",
    "    else:\n",
    "        scan_data = nap.read.Scan(file_name) # Read the scan data. scan_data is an object whose attributes contain all the data of the scan\n",
    "        channels = np.array(list(scan_data.signals.keys())) # Read the various channels\n",
    "        scan_header = scan_data.header\n",
    "        up_or_down = scan_header.get(\"scan_dir\", \"down\") # Read whether the scan was recorded in the upward or downward direction\n",
    "        \n",
    "        # Stack the forward and backward scans for each channel in a big tensor. Flip the backward scan\n",
    "        scan_tensor_uncropped = np.stack([np.stack((np.array(scan_data.signals[channel][\"forward\"], dtype = float), np.flip(np.array(scan_data.signals[channel][\"backward\"], dtype = float), axis = 1))) for channel in channels])\n",
    "        if up_or_down == \"up\": scan_tensor_uncropped = np.flip(scan_tensor_uncropped, axis = 2) # Flip the scan if it recorded in the upward direction\n",
    "\n",
    "        # Determine which rows should be cropped off in case the scan was not completed\n",
    "        pixels_uncropped = scan_header.get(\"scan_pixels\", np.array([100, 100], dtype = int)) # Read the old number of pixels in the scan\n",
    "        scan_range_uncropped = scan_header.get(\"scan_range\", np.array([1E-8, 1E-8], dtype = float)) # Read the old size of the scan\n",
    "        masked_array = np.isnan(scan_tensor_uncropped[0, 1]) # All channels have the same number of NaN values. The backward scan has more NaN values because the scan always starts in the forward direction.\n",
    "        nan_counts = np.array([sum([int(masked_array[j, i]) for i in range(len(masked_array))]) for j in range(len(masked_array[0]))])\n",
    "        good_rows = np.where(nan_counts == 0)[0]\n",
    "        scan_tensor = np.array([[scan_tensor_uncropped[channel, 0, good_rows], scan_tensor_uncropped[channel, 1, good_rows]] for channel in range(len(channels))])\n",
    "        \n",
    "        pixels = np.shape(scan_tensor[0, 0]) # The number of pixels is recalculated on the basis of the scans potentially being cropped\n",
    "        scan_range = np.array([scan_range_uncropped[0], scan_range_uncropped[1] * pixels[1] / pixels_uncropped[1]]) # Recalculate the size of the slow scan direction after cropping\n",
    "        scan_range_nm = scan_range * 1E9 # Return the scan range in nanometer\n",
    "        \n",
    "        z_controller = scan_header.get(\"z-controller\")\n",
    "        feedback = bool(z_controller.get(\"on\")[0])\n",
    "        setpoint_str = z_controller.get(\"Setpoint\")[0]\n",
    "        setpoint_pA = float(setpoint_str.split()[0]) * 1E12\n",
    "\n",
    "        setattr(scan_data, \"channels\", channels) # Add new attributes to the nap.Scan object\n",
    "        setattr(scan_data, \"scan_tensor_uncropped\", scan_tensor_uncropped)\n",
    "        setattr(scan_data, \"pixels_uncropped\", pixels_uncropped)\n",
    "        setattr(scan_data, \"scan_range_uncropped\", scan_range_uncropped)\n",
    "        setattr(scan_data, \"scan_tensor\", scan_tensor)\n",
    "        setattr(scan_data, \"pixels\", pixels)\n",
    "        setattr(scan_data, \"scan_range\", scan_range)\n",
    "        setattr(scan_data, \"scan_range_nm\", scan_range_nm)\n",
    "        setattr(scan_data, \"feedback\", feedback)\n",
    "        setattr(scan_data, \"setpoint_pA\", setpoint_pA)\n",
    "\n",
    "        return scan_data\n",
    "\n",
    "scan_object = get_scan(\"C:\\\\Nanonis\\\\simulation0008.sxm\")"
   ]
  },
  {
   "cell_type": "code",
   "execution_count": 12,
   "id": "e6184045",
   "metadata": {},
   "outputs": [
    {
     "name": "stdout",
     "output_type": "stream",
     "text": [
      "{'last_folder': 'Blabla'}\n"
     ]
    }
   ],
   "source": [
    "import yaml\n",
    "\n",
    "with open(\"C:\\\\Scripts\\\\Scanalyzer\\\\scanalyzer\\\\config.yml\", \"r\") as f:\n",
    "    config = yaml.safe_load(f)\n",
    "\n",
    "print(config)\n",
    "\n",
    "with open(\"C:\\\\Scripts\\\\Scanalyzer\\\\scanalyzer\\\\config.yml\", \"w\") as f:\n",
    "    yaml.safe_dump({\"last_folder\": \"Blabla\"}, f)\n"
   ]
  },
  {
   "cell_type": "code",
   "execution_count": 14,
   "id": "fa5476bc",
   "metadata": {},
   "outputs": [
    {
     "ename": "NameError",
     "evalue": "name '__file__' is not defined",
     "output_type": "error",
     "traceback": [
      "\u001b[31m---------------------------------------------------------------------------\u001b[39m",
      "\u001b[31mNameError\u001b[39m                                 Traceback (most recent call last)",
      "\u001b[36mCell\u001b[39m\u001b[36m \u001b[39m\u001b[32mIn[14]\u001b[39m\u001b[32m, line 2\u001b[39m\n\u001b[32m      1\u001b[39m \u001b[38;5;28;01mimport\u001b[39;00m\u001b[38;5;250m \u001b[39m\u001b[34;01mos\u001b[39;00m\n\u001b[32m----> \u001b[39m\u001b[32m2\u001b[39m script_folder = os.path.abspath(\u001b[34;43m__file__\u001b[39;49m)\n",
      "\u001b[31mNameError\u001b[39m: name '__file__' is not defined"
     ]
    }
   ],
   "source": [
    "import os\n",
    "script_folder = os.path.abspath(__file__)"
   ]
  }
 ],
 "metadata": {
  "kernelspec": {
   "display_name": "scantelligent",
   "language": "python",
   "name": "python3"
  },
  "language_info": {
   "codemirror_mode": {
    "name": "ipython",
    "version": 3
   },
   "file_extension": ".py",
   "mimetype": "text/x-python",
   "name": "python",
   "nbconvert_exporter": "python",
   "pygments_lexer": "ipython3",
   "version": "3.12.11"
  }
 },
 "nbformat": 4,
 "nbformat_minor": 5
}
