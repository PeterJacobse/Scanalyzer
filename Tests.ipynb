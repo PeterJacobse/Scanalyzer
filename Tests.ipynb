{
 "cells": [
  {
   "cell_type": "code",
   "execution_count": 47,
   "id": "2d30ab13",
   "metadata": {},
   "outputs": [],
   "source": [
    "import os\n",
    "import numpy as np\n",
    "import nanonispy2 as nap\n",
    "import yaml\n",
    "from datetime import datetime\n",
    "from PIL import Image\n",
    "\n",
    "def get_scan(file_name, crop_unfinished: bool = True):\n",
    "    if not os.path.exists(file_name):\n",
    "        print(f\"Error: File \\\"{file_name}\\\" does not exist.\")\n",
    "        return\n",
    "    else:\n",
    "        scan_data = nap.read.Scan(file_name) # Read the scan data. scan_data is an object whose attributes contain all the data of the scan\n",
    "        channels = np.array(list(scan_data.signals.keys())) # Read the various channels\n",
    "        scan_header = scan_data.header\n",
    "        up_or_down = scan_header.get(\"scan_dir\", \"down\") # Read whether the scan was recorded in the upward or downward direction\n",
    "        \n",
    "        # Stack the forward and backward scans for each channel in a big tensor. Flip the backward scan\n",
    "        scan_tensor_uncropped = np.stack([np.stack((np.array(scan_data.signals[channel][\"forward\"], dtype = float), np.flip(np.array(scan_data.signals[channel][\"backward\"], dtype = float), axis = 1))) for channel in channels])\n",
    "        if up_or_down == \"up\": scan_tensor_uncropped = np.flip(scan_tensor_uncropped, axis = 2) # Flip the scan if it recorded in the upward direction\n",
    "\n",
    "        # Determine which rows should be cropped off in case the scan was not completed\n",
    "        pixels_uncropped = scan_header.get(\"scan_pixels\", np.array([100, 100], dtype = int)) # Read the old number of pixels in the scan\n",
    "        scan_range_uncropped = scan_header.get(\"scan_range\", np.array([1E-8, 1E-8], dtype = float)) # Read the old size of the scan\n",
    "        masked_array = np.isnan(scan_tensor_uncropped[0, 1]) # All channels have the same number of NaN values. The backward scan has more NaN values because the scan always starts in the forward direction.\n",
    "        nan_counts = np.array([sum([int(masked_array[j, i]) for i in range(len(masked_array))]) for j in range(len(masked_array[0]))])\n",
    "        good_rows = np.where(nan_counts == 0)[0]\n",
    "        scan_tensor = np.array([[scan_tensor_uncropped[channel, 0, good_rows], scan_tensor_uncropped[channel, 1, good_rows]] for channel in range(len(channels))])\n",
    "        \n",
    "        pixels = np.shape(scan_tensor[0, 0]) # The number of pixels is recalculated on the basis of the scans potentially being cropped\n",
    "        scan_range = np.array([scan_range_uncropped[0], scan_range_uncropped[1] * pixels[1] / pixels_uncropped[1]]) # Recalculate the size of the slow scan direction after cropping\n",
    "        scan_range_nm = [round(scan_dimension, 3) for scan_dimension in scan_range * 1E9] # Return the scan range in nanometer\n",
    "        \n",
    "        # Get the bias\n",
    "        bias = round(float(scan_header.get(\"bias\", 0)), 3)\n",
    "\n",
    "        # Extract and convert z-controller parameters\n",
    "        z_controller = scan_header.get(\"z-controller\")\n",
    "        feedback = bool(z_controller.get(\"on\")[0])\n",
    "        setpoint_str = z_controller.get(\"Setpoint\")[0]\n",
    "        \n",
    "        # Extract and convert time parameters\n",
    "        rec_date = [int(element) for element in scan_data.header.get(\"rec_date\", \"00.00.1900\").split(\".\")]\n",
    "        rec_time = [int(element) for element in scan_data.header.get(\"rec_time\", \"00:00:00\").split(\":\")]\n",
    "        dt_object = datetime(rec_date[2], rec_date[1], rec_date[0], rec_time[0], rec_time[1], rec_time[2])\n",
    "\n",
    "        # Re-unitize\n",
    "        scan_range_nm = [round(dimension * 1E9, 3) for dimension in scan_range] # Scan range in nanometer\n",
    "        setpoint_pA = round(float(setpoint_str.split()[0]) * 1E12, 3) # Setpoint in pA\n",
    "        scan_tensor_nm_pA = scan_tensor\n",
    "        for index in range(len(channels)):\n",
    "            channel = channels[index]\n",
    "            if channel == \"X\" or channel == \"Y\" or channel == \"Z\":\n",
    "                scan_tensor_nm_pA[index, 0] *= 1E9\n",
    "                scan_tensor_nm_pA[index, 1] *= 1E9\n",
    "            elif channel == \"Current\":\n",
    "                scan_tensor_nm_pA[index, 0] *= 1E12\n",
    "                scan_tensor_nm_pA[index, 1] *= 1E12\n",
    "\n",
    "        # Add new attributes to the scan object\n",
    "        setattr(scan_data, \"bias\", bias)\n",
    "        setattr(scan_data, \"channels\", channels)\n",
    "        setattr(scan_data, \"scan_tensor_uncropped\", scan_tensor_uncropped) # Uncropped means the size of the scan before deleting the rows that were not recorded\n",
    "        setattr(scan_data, \"pixels_uncropped\", pixels_uncropped)\n",
    "        setattr(scan_data, \"scan_range_uncropped\", scan_range_uncropped)\n",
    "        setattr(scan_data, \"scan_tensor\", scan_tensor)\n",
    "        setattr(scan_data, \"scan_tensor_nm_pA\", scan_tensor_nm_pA)\n",
    "        setattr(scan_data, \"pixels\", pixels)\n",
    "        setattr(scan_data, \"scan_range\", scan_range)\n",
    "        setattr(scan_data, \"scan_range_nm\", scan_range_nm)\n",
    "        setattr(scan_data, \"feedback\", feedback)\n",
    "        setattr(scan_data, \"setpoint_pA\", setpoint_pA)\n",
    "        setattr(scan_data, \"date_time\", dt_object)\n",
    "\n",
    "        return scan_data\n",
    "\n",
    "scan_object = get_scan(\"C:\\\\Nanonis\\\\simulation0008.sxm\")"
   ]
  },
  {
   "cell_type": "code",
   "execution_count": null,
   "id": "88ce05f3",
   "metadata": {},
   "outputs": [],
   "source": [
    "pil_img = Image.fromarray(scan_object.scan_tensor_nm_pA[0, 0])\n",
    "scan_tensor_nm_pA"
   ]
  },
  {
   "cell_type": "code",
   "execution_count": null,
   "id": "e6184045",
   "metadata": {},
   "outputs": [
    {
     "name": "stdout",
     "output_type": "stream",
     "text": [
      "{'last_folder': 'Blabla'}\n"
     ]
    }
   ],
   "source": [
    "with open(\"C:\\\\Scripts\\\\Scanalyzer\\\\scanalyzer\\\\config.yml\", \"r\") as f:\n",
    "    config = yaml.safe_load(f)\n",
    "\n",
    "print(config)\n",
    "\n",
    "with open(\"C:\\\\Scripts\\\\Scanalyzer\\\\scanalyzer\\\\config.yml\", \"w\") as f:\n",
    "    yaml.safe_dump({\"last_folder\": \"Blabla\"}, f)\n"
   ]
  },
  {
   "cell_type": "code",
   "execution_count": 14,
   "id": "fa5476bc",
   "metadata": {},
   "outputs": [],
   "source": [
    "try: # Save the scan folder to the config yaml file so it opens automatically on startup next time\n",
    "    with open(\"C:\\\\Scripts\\\\Scanalyzer\\\\scanalyzer\\\\config.yml\", \"w\") as file:\n",
    "        yaml.safe_dump({\"last_file\": \"C:\\\\Scripts\\\\Scanalyzer\\\\scanalyzer\\\\dummy_scan.sxm\"}, file)\n",
    "except Exception as error:\n",
    "    print(\"Failed to save the scan folder to the config.yml file.\")\n",
    "    print(error)"
   ]
  },
  {
   "cell_type": "code",
   "execution_count": 8,
   "id": "1628be4b",
   "metadata": {},
   "outputs": [
    {
     "name": "stdout",
     "output_type": "stream",
     "text": [
      "C:\\Scripts\\Scanalyzer\\scanalyzer\\dummy_scan.sxm\n"
     ]
    }
   ],
   "source": [
    "try: # Read the last scan file from the config yaml file\n",
    "    with open(\"C:\\\\Scripts\\\\Scanalyzer\\\\scanalyzer\\\\config.yml\", \"r\") as file:\n",
    "        config = yaml.safe_load(file)\n",
    "        last_file = config.get(\"last_file\")\n",
    "except:\n",
    "    print(\"Failed to load the last scan folder from the config.yml file.\")\n",
    "\n",
    "print(last_file)"
   ]
  }
 ],
 "metadata": {
  "kernelspec": {
   "display_name": "scantelligent",
   "language": "python",
   "name": "python3"
  },
  "language_info": {
   "codemirror_mode": {
    "name": "ipython",
    "version": 3
   },
   "file_extension": ".py",
   "mimetype": "text/x-python",
   "name": "python",
   "nbconvert_exporter": "python",
   "pygments_lexer": "ipython3",
   "version": "3.12.11"
  }
 },
 "nbformat": 4,
 "nbformat_minor": 5
}
